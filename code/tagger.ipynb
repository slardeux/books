{
 "cells": [
  {
   "cell_type": "code",
   "execution_count": 14,
   "metadata": {
    "collapsed": false
   },
   "outputs": [],
   "source": [
    "import math\n",
    "from itertools import permutations\n",
    "import pandas as pd\n",
    "import seaborn as sns\n",
    "import matplotlib as mpl\n",
    "import matplotlib.pyplot as plt\n",
    "import numpy as np\n",
    "import nltk.tag\n",
    "from nltk.tag import brill\n",
    "import cPickle as pickle\n",
    "%matplotlib inline"
   ]
  },
  {
   "cell_type": "code",
   "execution_count": 2,
   "metadata": {
    "collapsed": true
   },
   "outputs": [],
   "source": [
    "import nltk.corpus, nltk.tag, itertools\n",
    "from nltk.tag import brill"
   ]
  },
  {
   "cell_type": "code",
   "execution_count": 3,
   "metadata": {
    "collapsed": false
   },
   "outputs": [],
   "source": [
    "from nltk.corpus import brown\n",
    "#brown.categories()"
   ]
  },
  {
   "cell_type": "code",
   "execution_count": 4,
   "metadata": {
    "collapsed": false
   },
   "outputs": [],
   "source": [
    "brown_sents = nltk.corpus.brown.tagged_sents()\n",
    "brown_train =list(brown_sents[:50000])\n",
    "brown_test =list(brown_sents[50000:57000])"
   ]
  },
  {
   "cell_type": "code",
   "execution_count": 51,
   "metadata": {
    "collapsed": false
   },
   "outputs": [],
   "source": [
    "#brown_train = list(itertools.chain(rev_sents[:1000], fic_sents[:1000], my_sents[:1000]))\n",
    "#brown_test = list(itertools.chain(rev_sents[1000:2000], fic_sents[1000:2000], my_sents[1000:2000]))"
   ]
  },
  {
   "cell_type": "code",
   "execution_count": 18,
   "metadata": {
    "collapsed": false
   },
   "outputs": [],
   "source": [
    "conll_sents = nltk.corpus.conll2000.tagged_sents()\n",
    "conll_train = list(conll_sents[:4000])\n",
    "conll_test = list(conll_sents[4000:8000])"
   ]
  },
  {
   "cell_type": "code",
   "execution_count": 19,
   "metadata": {
    "collapsed": true
   },
   "outputs": [],
   "source": [
    "treebank_sents = nltk.corpus.treebank.tagged_sents()\n",
    "treebank_train = list(treebank_sents[:1500])\n",
    "treebank_test = list(treebank_sents[1500:3000])"
   ]
  },
  {
   "cell_type": "code",
   "execution_count": 7,
   "metadata": {
    "collapsed": true
   },
   "outputs": [],
   "source": [
    "def backoff_tagger(tagged_sents, tagger_classes, backoff=None):\n",
    "    if not backoff:\n",
    "        backoff = tagger_classes[0](tagged_sents)\n",
    "        del tagger_classes[0]\n",
    " \n",
    "    for cls in tagger_classes:\n",
    "        tagger = cls(tagged_sents, backoff=backoff)\n",
    "        backoff = tagger\n",
    " \n",
    "    return backoff"
   ]
  },
  {
   "cell_type": "code",
   "execution_count": 8,
   "metadata": {
    "collapsed": true
   },
   "outputs": [],
   "source": [
    "def train_tagger(cps, inp):\n",
    "    out = []\n",
    "    for i in inp:\n",
    "        tmp = backoff_tagger(cps, i)\n",
    "        out.append(tmp)\n",
    "    return out   "
   ]
  },
  {
   "cell_type": "code",
   "execution_count": 9,
   "metadata": {
    "collapsed": true
   },
   "outputs": [],
   "source": [
    "def tagger_eval(cps, tagger):\n",
    "    out = []\n",
    "    for t in tagger:\n",
    "        out.append(t.evaluate(cps))\n",
    "    return out"
   ]
  },
  {
   "cell_type": "code",
   "execution_count": 274,
   "metadata": {
    "collapsed": false
   },
   "outputs": [],
   "source": [
    "ntag = []\n",
    "for i in permutations([nltk.UnigramTagger, nltk.BigramTagger, nltk.TrigramTagger],3):\n",
    "    ntag.append(list(i))"
   ]
  },
  {
   "cell_type": "code",
   "execution_count": 275,
   "metadata": {
    "collapsed": false
   },
   "outputs": [],
   "source": [
    "brown_tagger = train_tagger(brown_train, ntag)"
   ]
  },
  {
   "cell_type": "code",
   "execution_count": 128,
   "metadata": {
    "collapsed": false
   },
   "outputs": [],
   "source": [
    "conll_tagger = train_tagger(conll_train, ntag)"
   ]
  },
  {
   "cell_type": "code",
   "execution_count": 129,
   "metadata": {
    "collapsed": false
   },
   "outputs": [],
   "source": [
    "treebank_tagger = train_tagger(treebank_train, ntag)"
   ]
  },
  {
   "cell_type": "code",
   "execution_count": 276,
   "metadata": {
    "collapsed": false
   },
   "outputs": [
    {
     "data": {
      "text/plain": [
       "[0.895034500911877,\n",
       " 0.8884953090040799,\n",
       " 0.7918137890837986,\n",
       " 0.7683682102769473,\n",
       " 0.6542839415646681,\n",
       " 0.6368924737247824]"
      ]
     },
     "execution_count": 276,
     "metadata": {},
     "output_type": "execute_result"
    }
   ],
   "source": [
    "tagger_eval(brown_test, brown_tagger)"
   ]
  },
  {
   "cell_type": "code",
   "execution_count": 131,
   "metadata": {
    "collapsed": false
   },
   "outputs": [
    {
     "data": {
      "text/plain": [
       "[0.13830257370735916,\n",
       " 0.08394536922073276,\n",
       " 0.8674424966855363,\n",
       " 0.27471116816431324,\n",
       " 0.871903870030935,\n",
       " 0.49753782697447335]"
      ]
     },
     "execution_count": 131,
     "metadata": {},
     "output_type": "execute_result"
    }
   ],
   "source": [
    "tagger_eval(conll_test, conll_tagger)"
   ]
  },
  {
   "cell_type": "code",
   "execution_count": 132,
   "metadata": {
    "collapsed": false
   },
   "outputs": [
    {
     "data": {
      "text/plain": [
       "[0.05166903409090909,\n",
       " 0.08035714285714286,\n",
       " 0.05166903409090909,\n",
       " 0.7950487012987013,\n",
       " 0.08035714285714286,\n",
       " 0.7950487012987013]"
      ]
     },
     "execution_count": 132,
     "metadata": {},
     "output_type": "execute_result"
    }
   ],
   "source": [
    "tagger_eval(treebank_test, treebank_tagger)"
   ]
  },
  {
   "cell_type": "markdown",
   "metadata": {},
   "source": [
    "so the two best one are ubt an utb the others are not even close"
   ]
  },
  {
   "cell_type": "markdown",
   "metadata": {},
   "source": [
    "Add an affixe tagger"
   ]
  },
  {
   "cell_type": "code",
   "execution_count": 284,
   "metadata": {
    "collapsed": false
   },
   "outputs": [],
   "source": [
    "ntag = []\n",
    "for i in permutations([nltk.tag.UnigramTagger, nltk.tag.BigramTagger, nltk.tag.TrigramTagger, nltk.tag.AffixTagger],4):\n",
    "    ntag.append(list(i))"
   ]
  },
  {
   "cell_type": "code",
   "execution_count": 285,
   "metadata": {
    "collapsed": false
   },
   "outputs": [],
   "source": [
    "brown_tagger = train_tagger(brown_train, ntag)\n",
    "conll_tagger = train_tagger(conll_train, ntag)\n",
    "treebank_tagger = train_tagger(treebank_train, ntag)"
   ]
  },
  {
   "cell_type": "code",
   "execution_count": 148,
   "metadata": {
    "collapsed": false
   },
   "outputs": [],
   "source": [
    "brown_tag_res = tagger_eval(brown_test, brown_tagger)"
   ]
  },
  {
   "cell_type": "code",
   "execution_count": 286,
   "metadata": {
    "collapsed": false
   },
   "outputs": [],
   "source": [
    "conll_tag_res = tagger_eval(conll_test, conll_tagger)"
   ]
  },
  {
   "cell_type": "code",
   "execution_count": 151,
   "metadata": {
    "collapsed": false,
    "scrolled": true
   },
   "outputs": [],
   "source": [
    "treebank_tag_res = tagger_eval(treebank_test, treebank_tagger)"
   ]
  },
  {
   "cell_type": "code",
   "execution_count": 289,
   "metadata": {
    "collapsed": false
   },
   "outputs": [
    {
     "data": {
      "image/png": "[encoded data removed]",
      "text/plain": [
       "<matplotlib.figure.Figure at 0x7f20e33aee90>"
      ]
     },
     "metadata": {},
     "output_type": "display_data"
    }
   ],
   "source": [
    "columns = ['brown', 'conll', 'treebank']\n",
    "index = np.arange(24) # array of numbers for the number of samples\n",
    "df = pd.DataFrame(columns=columns, index = index)\n",
    "df['brown'] = brown_tag_res\n",
    "df['conll'] = conll_tag_res\n",
    "df['treebank'] = treebank_tag_res\n",
    "df.plot();"
   ]
  },
  {
   "cell_type": "markdown",
   "metadata": {},
   "source": [
    "let's take: baut, taub, tabu aka 10, 16 and 15"
   ]
  },
  {
   "cell_type": "code",
   "execution_count": 5,
   "metadata": {
    "collapsed": true
   },
   "outputs": [],
   "source": [
    "baut = [nltk.BigramTagger, nltk.AffixTagger, nltk.UnigramTagger, nltk.TrigramTagger]\n",
    "taub = [nltk.TrigramTagger, nltk.AffixTagger, nltk.UnigramTagger, nltk.BigramTagger]\n",
    "tabu = [nltk.TrigramTagger, nltk.AffixTagger, nltk.BigramTagger, nltk.UnigramTagger]\n",
    "ntag = [baut,taub,tabu]"
   ]
  },
  {
   "cell_type": "code",
   "execution_count": 10,
   "metadata": {
    "collapsed": false
   },
   "outputs": [],
   "source": [
    "patterns = [\n",
    "    (r'^-?[0-9]+(.[0-9]+)?$', 'CD'),\n",
    "    (r'.*ould$', 'MD'),\n",
    "    (r'.*ing$', 'VBG'),\n",
    "    (r'.*ed$', 'VBD'),\n",
    "    (r'.*ness$', 'NN'),\n",
    "    (r'.*ment$', 'NN'),\n",
    "    (r'.*ful$', 'JJ'),\n",
    "    (r'.*ious$', 'JJ'),\n",
    "    (r'.*ble$', 'JJ'),\n",
    "    (r'.*ic$', 'JJ'),\n",
    "    (r'.*ive$', 'JJ'),\n",
    "    (r'.*ic$', 'JJ'),\n",
    "    (r'.*est$', 'JJ'),\n",
    "    (r'^a$', 'PREP'),\n",
    "]"
   ]
  },
  {
   "cell_type": "code",
   "execution_count": 304,
   "metadata": {
    "collapsed": true
   },
   "outputs": [],
   "source": [
    "def add_regex(cps, ptn, sqc):\n",
    "    rfirst = []\n",
    "    rlast = []\n",
    "    for i in sqc:\n",
    "        rfirst.append(backoff_tagger(cps, i, backoff=nltk.RegexpTagger(ptn)))\n",
    "        bcf = backoff_tagger(cps, i)\n",
    "        rlast.append(nltk.RegexpTagger(ptn, backoff=bcf))\n",
    "    rfirst.extend(rlast)\n",
    "    return rfirst"
   ]
  },
  {
   "cell_type": "code",
   "execution_count": 307,
   "metadata": {
    "collapsed": false
   },
   "outputs": [],
   "source": [
    "brown_tagger = add_regex(brown_train, patterns, ntag)\n",
    "conll_tagger = add_regex(conll_train, patterns,ntag)\n",
    "treebank_tagger = add_regex(treebank_train, patterns, ntag)"
   ]
  },
  {
   "cell_type": "code",
   "execution_count": 293,
   "metadata": {
    "collapsed": false
   },
   "outputs": [
    {
     "data": {
      "text/plain": [
       "[0.8897608174549018,\n",
       " 0.8318898395534793,\n",
       " 0.7960824453659475,\n",
       " 0.8484943922453765,\n",
       " 0.7866603677847183,\n",
       " 0.7567144331881092]"
      ]
     },
     "execution_count": 293,
     "metadata": {},
     "output_type": "execute_result"
    }
   ],
   "source": [
    "tagger_eval(brown_test, brown_tagger)"
   ]
  },
  {
   "cell_type": "code",
   "execution_count": 261,
   "metadata": {
    "collapsed": false
   },
   "outputs": [
    {
     "data": {
      "text/plain": [
       "[0.9139922978177151,\n",
       " 0.9182642732380731,\n",
       " 0.8375702350638692,\n",
       " 0.8694416970054084,\n",
       " 0.8728508596561375,\n",
       " 0.7923041309791873]"
      ]
     },
     "execution_count": 261,
     "metadata": {},
     "output_type": "execute_result"
    }
   ],
   "source": [
    "tagger_eval(conll_test, conll_tagger)"
   ]
  },
  {
   "cell_type": "code",
   "execution_count": 262,
   "metadata": {
    "collapsed": false
   },
   "outputs": [
    {
     "data": {
      "text/plain": [
       "[0.8205915178571429,\n",
       " 0.8226461038961039,\n",
       " 0.5000253652597403,\n",
       " 0.7787388392857143,\n",
       " 0.7802607548701299,\n",
       " 0.4504362824675325]"
      ]
     },
     "execution_count": 262,
     "metadata": {},
     "output_type": "execute_result"
    }
   ],
   "source": [
    "tagger_eval(treebank_test, treebank_tagger)"
   ]
  },
  {
   "cell_type": "markdown",
   "metadata": {},
   "source": [
    "it seems that rbaut is the best tagger"
   ]
  },
  {
   "cell_type": "code",
   "execution_count": 11,
   "metadata": {
    "collapsed": false
   },
   "outputs": [],
   "source": [
    "rbaut_tagger = backoff_tagger(brown_train, baut, backoff=nltk.RegexpTagger(patterns))"
   ]
  },
  {
   "cell_type": "code",
   "execution_count": 12,
   "metadata": {
    "collapsed": false
   },
   "outputs": [
    {
     "data": {
      "text/plain": [
       "0.8897608174549018"
      ]
     },
     "execution_count": 12,
     "metadata": {},
     "output_type": "execute_result"
    }
   ],
   "source": [
    "rbaut_tagger.evaluate(brown_test)"
   ]
  },
  {
   "cell_type": "code",
   "execution_count": 15,
   "metadata": {
    "collapsed": false
   },
   "outputs": [],
   "source": [
    "pickle.dump(rbaut_tagger, open('rbaut_tagger.p', 'wb'))"
   ]
  },
  {
   "cell_type": "code",
   "execution_count": null,
   "metadata": {
    "collapsed": false
   },
   "outputs": [],
   "source": []
  }
 ],
 "metadata": {
  "kernelspec": {
   "display_name": "Python 2",
   "language": "python",
   "name": "python2"
  },
  "language_info": {
   "codemirror_mode": {
    "name": "ipython",
    "version": 2
   },
   "file_extension": ".py",
   "mimetype": "text/x-python",
   "name": "python",
   "nbconvert_exporter": "python",
   "pygments_lexer": "ipython2",
   "version": "2.7.9"
  }
 },
 "nbformat": 4,
 "nbformat_minor": 0
}
